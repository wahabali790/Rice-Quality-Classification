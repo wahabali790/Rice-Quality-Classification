{
 "cells": [
  {
   "cell_type": "code",
   "execution_count": 2,
   "id": "3935050a",
   "metadata": {},
   "outputs": [],
   "source": [
    "from ultralytics import YOLO\n",
    "import torch\n",
    "import cv2 \n",
    "import numpy as np\n",
    "import pathlib\n",
    "import matplotlib.pyplot as plt\n",
    "from PIL import Image\n",
    "import tensorflow as tf\n",
    "import io\n",
    "from flask import Flask, request, jsonify\n",
    "import matplotlib.image as mpimg"
   ]
  },
  {
   "cell_type": "code",
   "execution_count": null,
   "id": "49059a16",
   "metadata": {},
   "outputs": [
    {
     "name": "stdout",
     "output_type": "stream",
     "text": [
      " * Serving Flask app '__main__'\n",
      " * Debug mode: off\n"
     ]
    },
    {
     "name": "stderr",
     "output_type": "stream",
     "text": [
      "WARNING: This is a development server. Do not use it in a production deployment. Use a production WSGI server instead.\n",
      " * Running on http://127.0.0.1:5000\n",
      "Press CTRL+C to quit\n",
      "127.0.0.1 - - [06/Jun/2023 04:13:23] \"POST /predict?image HTTP/1.1\" 200 -\n",
      "127.0.0.1 - - [06/Jun/2023 04:13:38] \"POST /predict?image HTTP/1.1\" 200 -\n",
      "127.0.0.1 - - [06/Jun/2023 04:14:02] \"POST /predict?image HTTP/1.1\" 200 -\n",
      "127.0.0.1 - - [06/Jun/2023 04:14:19] \"POST /predict?image HTTP/1.1\" 200 -\n",
      "127.0.0.1 - - [06/Jun/2023 04:14:37] \"POST /predict?image HTTP/1.1\" 200 -\n",
      "127.0.0.1 - - [06/Jun/2023 04:14:43] \"POST /predict?image HTTP/1.1\" 200 -\n",
      "127.0.0.1 - - [06/Jun/2023 04:15:03] \"POST /predict?image HTTP/1.1\" 200 -\n",
      "127.0.0.1 - - [06/Jun/2023 04:15:15] \"POST /predict?image HTTP/1.1\" 200 -\n",
      "127.0.0.1 - - [06/Jun/2023 04:15:38] \"POST /predict?image HTTP/1.1\" 200 -\n",
      "127.0.0.1 - - [06/Jun/2023 04:15:56] \"POST /predict?image HTTP/1.1\" 200 -\n",
      "127.0.0.1 - - [06/Jun/2023 04:16:44] \"POST /predict?image HTTP/1.1\" 200 -\n",
      "127.0.0.1 - - [06/Jun/2023 04:16:59] \"POST /predict?image HTTP/1.1\" 200 -\n",
      "127.0.0.1 - - [06/Jun/2023 04:17:04] \"POST /predict?image HTTP/1.1\" 200 -\n",
      "127.0.0.1 - - [06/Jun/2023 04:17:25] \"POST /predict?image HTTP/1.1\" 200 -\n",
      "127.0.0.1 - - [06/Jun/2023 04:17:45] \"POST /predict?image HTTP/1.1\" 200 -\n"
     ]
    }
   ],
   "source": [
    "from flask import Flask, request, jsonify\n",
    "from PIL import Image\n",
    "\n",
    "app = Flask(__name__)\n",
    "def Predict(img):\n",
    "    model = YOLO(\"Downloads/best.pt\")\n",
    "    results = model(img, verbose=False)\n",
    "    #print(results)\n",
    "    res_plotted = results[0].plot()\n",
    "    \n",
    "    #result_dict = {}\n",
    "    for result in results:\n",
    "        classes_names = result.names[result.probs.top1]\n",
    "        #print(classes_names)\n",
    "        probs = result.probs.top1conf.item()\n",
    "        #print(probs)\n",
    "        #result_dict[classes_names] = probs\n",
    "        \n",
    "    return {\"Class\": classes_names, \"Confidence\": probs} \n",
    "    \"\"\"img = mpimg.imread(img)\n",
    "\n",
    "    # Plot the image\n",
    "    plt.imshow(img)\n",
    "    plt.axis('off')  # Hide axes\n",
    "    plt.show() \"\"\"   \n",
    "    \n",
    "@app.route('/predict', methods=['POST'])\n",
    "def predict():\n",
    "    file = request.files['image']\n",
    "    img = Image.open(file)\n",
    "\n",
    "    result = Predict(img)\n",
    "\n",
    "    return jsonify(result)\n",
    "\n",
    "if __name__ == '__main__':\n",
    "    app.run()    \n",
    "    "
   ]
  },
  {
   "cell_type": "code",
   "execution_count": null,
   "id": "9f966792",
   "metadata": {},
   "outputs": [],
   "source": []
  },
  {
   "cell_type": "code",
   "execution_count": null,
   "id": "74a4b506",
   "metadata": {},
   "outputs": [],
   "source": []
  }
 ],
 "metadata": {
  "kernelspec": {
   "display_name": "Python 3 (ipykernel)",
   "language": "python",
   "name": "python3"
  },
  "language_info": {
   "codemirror_mode": {
    "name": "ipython",
    "version": 3
   },
   "file_extension": ".py",
   "mimetype": "text/x-python",
   "name": "python",
   "nbconvert_exporter": "python",
   "pygments_lexer": "ipython3",
   "version": "3.8.16"
  }
 },
 "nbformat": 4,
 "nbformat_minor": 5
}
